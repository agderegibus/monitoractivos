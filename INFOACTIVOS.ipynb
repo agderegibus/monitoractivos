{
 "cells": [
  {
   "cell_type": "code",
   "execution_count": 1,
   "metadata": {},
   "outputs": [],
   "source": [
    "import pandas as pd\n",
    "df = pd.read_excel(\"stock.xlsx\")"
   ]
  },
  {
   "cell_type": "code",
   "execution_count": 7,
   "metadata": {},
   "outputs": [
    {
     "data": {
      "text/plain": [
       "Index(['MC ID', 'MC Cód.', 'MC', 'Cta. Int. Cód.',\n",
       "       'Cta. Integración De Garantías', 'Cta. Neteo ID', 'Cta. Neteo Cód. ',\n",
       "       'Cta. Neteo', 'Cód. en Ent. Bursátil', 'Finalidad', 'Activo ID',\n",
       "       'Activo Cód.', 'Activo', 'Fondo ID', 'Alias', 'Fondo', 'Cantidad',\n",
       "       'Fecha Vencimiento', 'Cuenta Depositaria ID', 'Cta. Depositaria',\n",
       "       'Moneda ID', 'Moneda Int Gtias ', 'Cotización Mercado',\n",
       "       'Cotización Aforada', 'Cotización Moneda', 'Aforo', 'Aforo Mín. ',\n",
       "       'Aforo Máx.', 'Activo Valorizado', 'Tipo Movimiento',\n",
       "       'Clasificación ID', 'Grupo Operación Cartera ID', 'Observaciones',\n",
       "       'Activo Relacionado ID', 'Activo Relacionado', 'Fecha Real',\n",
       "       'Origen ID', 'Origen', 'Clasificación Activo'],\n",
       "      dtype='object')"
      ]
     },
     "execution_count": 7,
     "metadata": {},
     "output_type": "execute_result"
    }
   ],
   "source": [
    "df.columns"
   ]
  },
  {
   "cell_type": "code",
   "execution_count": 32,
   "metadata": {},
   "outputs": [],
   "source": [
    "def buscar(activo):\n",
    "    data = df[df[\"Activo\"] == activo]\n",
    "\n",
    "    cantidadalycs = list(data[\"MC Cód.\"].unique())\n",
    "    lenalycs = len(cantidadalycs)\n",
    "    valorizado1 = data[\"Activo Valorizado\"].sum()\n",
    "    valorizado = (f\"{valorizado1:,}\")\n",
    "    activostotal = df[\"Activo Valorizado\"].sum()\n",
    "    porcenttotal = valorizado1/activostotal*100\n",
    "    porcenttotal = (\"{:.4f}\".format(porcenttotal))\n",
    "\n",
    "    if lenalycs != 0:\n",
    "        print(f\"Este activo lo tienen integrado {lenalycs} ALyCs.\")\n",
    "        if lenalycs <= 10:\n",
    "            print(cantidadalycs)\n",
    "        else:\n",
    "            masalycs = data.sort_values(\"Activo Valorizado\", ascending=False).head(10)\n",
    "            masalycs = masalycs[[\"MC\", \"Activo Valorizado\"]]\n",
    "            masalycs.loc[:,\"Activo Valorizado\"] = masalycs[\"Activo Valorizado\"].map('{:,.0f}'.format)\n",
    "            print(f\"Los ALyCs que mas lo tienen integrado son: \\n{masalycs}\\n\\n\")\n",
    "        \n",
    "        print(f\"Todo el stock integrado de este activo está valorizado en: ${valorizado}\\n\")\n",
    "        print(f\"Este activo representa el {porcenttotal}% del stock de activos\")\n",
    "\n",
    "\n",
    "    \n",
    "    else:\n",
    "        print(\"Nadie tiene integrado este activo ahora\")\n",
    "\n",
    "    return"
   ]
  },
  {
   "cell_type": "code",
   "execution_count": 36,
   "metadata": {},
   "outputs": [
    {
     "name": "stdout",
     "output_type": "stream",
     "text": [
      "Este activo lo tienen integrado 5 ALyCs.\n",
      "[345, 405, 269, 475, 218]\n",
      "Todo el stock integrado de este activo está valorizado en: $372,078.0\n",
      "\n",
      "Este activo representa el 0.0001% del stock de activos\n"
     ]
    }
   ],
   "source": [
    "buscar(\"CEDEAR NFLX\")"
   ]
  }
 ],
 "metadata": {
  "kernelspec": {
   "display_name": "Python 3",
   "language": "python",
   "name": "python3"
  },
  "language_info": {
   "codemirror_mode": {
    "name": "ipython",
    "version": 3
   },
   "file_extension": ".py",
   "mimetype": "text/x-python",
   "name": "python",
   "nbconvert_exporter": "python",
   "pygments_lexer": "ipython3",
   "version": "3.10.10"
  },
  "orig_nbformat": 4
 },
 "nbformat": 4,
 "nbformat_minor": 2
}
